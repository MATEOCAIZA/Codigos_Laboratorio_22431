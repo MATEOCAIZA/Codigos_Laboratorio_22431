{
 "cells": [
  {
   "cell_type": "markdown",
   "id": "9d8e1204",
   "metadata": {},
   "source": [
    "## Reg_logísitica"
   ]
  },
  {
   "cell_type": "code",
   "execution_count": 1,
   "id": "723a05d8",
   "metadata": {},
   "outputs": [
    {
     "name": "stdout",
     "output_type": "stream",
     "text": [
      "Requirement already satisfied: pandas in c:\\users\\antho\\appdata\\local\\programs\\python\\python312\\lib\\site-packages (2.2.3)\n",
      "Requirement already satisfied: numpy in c:\\users\\antho\\appdata\\local\\programs\\python\\python312\\lib\\site-packages (1.26.4)\n",
      "Collecting matplotlib\n",
      "  Downloading matplotlib-3.10.3-cp312-cp312-win_amd64.whl.metadata (11 kB)\n",
      "Collecting seaborn\n",
      "  Downloading seaborn-0.13.2-py3-none-any.whl.metadata (5.4 kB)\n",
      "Collecting scikit-learn\n",
      "  Downloading scikit_learn-1.6.1-cp312-cp312-win_amd64.whl.metadata (15 kB)\n",
      "Requirement already satisfied: python-dateutil>=2.8.2 in c:\\users\\antho\\appdata\\local\\programs\\python\\python312\\lib\\site-packages (from pandas) (2.9.0.post0)\n",
      "Requirement already satisfied: pytz>=2020.1 in c:\\users\\antho\\appdata\\local\\programs\\python\\python312\\lib\\site-packages (from pandas) (2025.1)\n",
      "Requirement already satisfied: tzdata>=2022.7 in c:\\users\\antho\\appdata\\local\\programs\\python\\python312\\lib\\site-packages (from pandas) (2025.1)\n",
      "Collecting contourpy>=1.0.1 (from matplotlib)\n",
      "  Downloading contourpy-1.3.2-cp312-cp312-win_amd64.whl.metadata (5.5 kB)\n",
      "Collecting cycler>=0.10 (from matplotlib)\n",
      "  Downloading cycler-0.12.1-py3-none-any.whl.metadata (3.8 kB)\n",
      "Collecting fonttools>=4.22.0 (from matplotlib)\n",
      "  Downloading fonttools-4.58.0-cp312-cp312-win_amd64.whl.metadata (106 kB)\n",
      "Collecting kiwisolver>=1.3.1 (from matplotlib)\n",
      "  Downloading kiwisolver-1.4.8-cp312-cp312-win_amd64.whl.metadata (6.3 kB)\n",
      "Requirement already satisfied: packaging>=20.0 in c:\\users\\antho\\appdata\\local\\programs\\python\\python312\\lib\\site-packages (from matplotlib) (24.1)\n",
      "Collecting pillow>=8 (from matplotlib)\n",
      "  Downloading pillow-11.2.1-cp312-cp312-win_amd64.whl.metadata (9.1 kB)\n",
      "Collecting pyparsing>=2.3.1 (from matplotlib)\n",
      "  Downloading pyparsing-3.2.3-py3-none-any.whl.metadata (5.0 kB)\n",
      "Collecting scipy>=1.6.0 (from scikit-learn)\n",
      "  Downloading scipy-1.15.3-cp312-cp312-win_amd64.whl.metadata (60 kB)\n",
      "Requirement already satisfied: joblib>=1.2.0 in c:\\users\\antho\\appdata\\local\\programs\\python\\python312\\lib\\site-packages (from scikit-learn) (1.4.2)\n",
      "Collecting threadpoolctl>=3.1.0 (from scikit-learn)\n",
      "  Downloading threadpoolctl-3.6.0-py3-none-any.whl.metadata (13 kB)\n",
      "Requirement already satisfied: six>=1.5 in c:\\users\\antho\\appdata\\local\\programs\\python\\python312\\lib\\site-packages (from python-dateutil>=2.8.2->pandas) (1.16.0)\n",
      "Downloading matplotlib-3.10.3-cp312-cp312-win_amd64.whl (8.1 MB)\n",
      "   ---------------------------------------- 0.0/8.1 MB ? eta -:--:--\n",
      "   ----------- ---------------------------- 2.4/8.1 MB 12.2 MB/s eta 0:00:01\n",
      "   ----------------------- ---------------- 4.7/8.1 MB 11.9 MB/s eta 0:00:01\n",
      "   ----------------------------------- ---- 7.1/8.1 MB 12.1 MB/s eta 0:00:01\n",
      "   ---------------------------------------- 8.1/8.1 MB 11.6 MB/s eta 0:00:00\n",
      "Downloading seaborn-0.13.2-py3-none-any.whl (294 kB)\n",
      "Downloading scikit_learn-1.6.1-cp312-cp312-win_amd64.whl (11.1 MB)\n",
      "   ---------------------------------------- 0.0/11.1 MB ? eta -:--:--\n",
      "   -------- ------------------------------- 2.4/11.1 MB 11.2 MB/s eta 0:00:01\n",
      "   ---------------- ----------------------- 4.7/11.1 MB 11.4 MB/s eta 0:00:01\n",
      "   ------------------------- -------------- 7.1/11.1 MB 11.8 MB/s eta 0:00:01\n",
      "   --------------------------------- ------ 9.4/11.1 MB 11.7 MB/s eta 0:00:01\n",
      "   ---------------------------------------  11.0/11.1 MB 11.7 MB/s eta 0:00:01\n",
      "   ---------------------------------------  11.0/11.1 MB 11.7 MB/s eta 0:00:01\n",
      "   ---------------------------------------  11.0/11.1 MB 11.7 MB/s eta 0:00:01\n",
      "   ---------------------------------------  11.0/11.1 MB 11.7 MB/s eta 0:00:01\n",
      "   ---------------------------------------  11.0/11.1 MB 11.7 MB/s eta 0:00:01\n",
      "   ---------------------------------------  11.0/11.1 MB 11.7 MB/s eta 0:00:01\n",
      "   ---------------------------------------  11.0/11.1 MB 11.7 MB/s eta 0:00:01\n",
      "   ---------------------------------------  11.0/11.1 MB 11.7 MB/s eta 0:00:01\n",
      "   ---------------------------------------  11.0/11.1 MB 11.7 MB/s eta 0:00:01\n",
      "   ---------------------------------------- 11.1/11.1 MB 4.1 MB/s eta 0:00:00\n",
      "Downloading contourpy-1.3.2-cp312-cp312-win_amd64.whl (223 kB)\n",
      "Downloading cycler-0.12.1-py3-none-any.whl (8.3 kB)\n",
      "Downloading fonttools-4.58.0-cp312-cp312-win_amd64.whl (2.2 MB)\n",
      "   ---------------------------------------- 0.0/2.2 MB ? eta -:--:--\n",
      "   ---------------------------------------- 2.2/2.2 MB 11.5 MB/s eta 0:00:00\n",
      "Downloading kiwisolver-1.4.8-cp312-cp312-win_amd64.whl (71 kB)\n",
      "Downloading pillow-11.2.1-cp312-cp312-win_amd64.whl (2.7 MB)\n",
      "   ---------------------------------------- 0.0/2.7 MB ? eta -:--:--\n",
      "   ----------------------------------- ---- 2.4/2.7 MB 12.3 MB/s eta 0:00:01\n",
      "   ---------------------------------------- 2.7/2.7 MB 11.9 MB/s eta 0:00:00\n",
      "Downloading pyparsing-3.2.3-py3-none-any.whl (111 kB)\n",
      "Downloading scipy-1.15.3-cp312-cp312-win_amd64.whl (41.0 MB)\n",
      "   ---------------------------------------- 0.0/41.0 MB ? eta -:--:--\n",
      "   -- ------------------------------------- 2.4/41.0 MB 12.2 MB/s eta 0:00:04\n",
      "   ---- ----------------------------------- 4.7/41.0 MB 11.9 MB/s eta 0:00:04\n",
      "   ------ --------------------------------- 7.1/41.0 MB 11.8 MB/s eta 0:00:03\n",
      "   --------- ------------------------------ 9.4/41.0 MB 12.0 MB/s eta 0:00:03\n",
      "   ----------- ---------------------------- 11.8/41.0 MB 11.9 MB/s eta 0:00:03\n",
      "   ------------- -------------------------- 14.2/41.0 MB 11.9 MB/s eta 0:00:03\n",
      "   ---------------- ----------------------- 16.5/41.0 MB 11.8 MB/s eta 0:00:03\n",
      "   ------------------ --------------------- 18.9/41.0 MB 11.9 MB/s eta 0:00:02\n",
      "   -------------------- ------------------- 21.2/41.0 MB 11.9 MB/s eta 0:00:02\n",
      "   ----------------------- ---------------- 23.6/41.0 MB 11.8 MB/s eta 0:00:02\n",
      "   ------------------------- -------------- 26.2/41.0 MB 11.9 MB/s eta 0:00:02\n",
      "   --------------------------- ------------ 28.6/41.0 MB 11.8 MB/s eta 0:00:02\n",
      "   ------------------------------ --------- 30.9/41.0 MB 11.8 MB/s eta 0:00:01\n",
      "   -------------------------------- ------- 33.3/41.0 MB 11.8 MB/s eta 0:00:01\n",
      "   ---------------------------------- ----- 35.7/41.0 MB 11.9 MB/s eta 0:00:01\n",
      "   ------------------------------------- -- 38.0/41.0 MB 11.8 MB/s eta 0:00:01\n",
      "   ---------------------------------------  40.4/41.0 MB 11.8 MB/s eta 0:00:01\n",
      "   ---------------------------------------  40.9/41.0 MB 11.8 MB/s eta 0:00:01\n",
      "   ---------------------------------------  40.9/41.0 MB 11.8 MB/s eta 0:00:01\n",
      "   ---------------------------------------  40.9/41.0 MB 11.8 MB/s eta 0:00:01\n",
      "   ---------------------------------------  40.9/41.0 MB 11.8 MB/s eta 0:00:01\n",
      "   ---------------------------------------  40.9/41.0 MB 11.8 MB/s eta 0:00:01\n",
      "   ---------------------------------------- 41.0/41.0 MB 9.2 MB/s eta 0:00:00\n",
      "Downloading threadpoolctl-3.6.0-py3-none-any.whl (18 kB)\n",
      "Installing collected packages: threadpoolctl, scipy, pyparsing, pillow, kiwisolver, fonttools, cycler, contourpy, scikit-learn, matplotlib, seaborn\n",
      "Successfully installed contourpy-1.3.2 cycler-0.12.1 fonttools-4.58.0 kiwisolver-1.4.8 matplotlib-3.10.3 pillow-11.2.1 pyparsing-3.2.3 scikit-learn-1.6.1 scipy-1.15.3 seaborn-0.13.2 threadpoolctl-3.6.0\n",
      "Note: you may need to restart the kernel to use updated packages.\n"
     ]
    },
    {
     "name": "stderr",
     "output_type": "stream",
     "text": [
      "\n",
      "[notice] A new release of pip is available: 25.0.1 -> 25.1.1\n",
      "[notice] To update, run: python.exe -m pip install --upgrade pip\n"
     ]
    }
   ],
   "source": [
    "%pip install pandas numpy matplotlib seaborn scikit-learn"
   ]
  },
  {
   "cell_type": "code",
   "execution_count": 3,
   "id": "f42f9dba",
   "metadata": {},
   "outputs": [],
   "source": [
    "import pandas as pd\n",
    "import numpy as np\n",
    "import matplotlib.pyplot as plt\n",
    "import seaborn as sns\n",
    "from sklearn.model_selection import train_test_split\n",
    "from sklearn.linear_model import LogisticRegression\n",
    "from sklearn.metrics import classification_report\n",
    "from sklearn.metrics import confusion_matrix"
   ]
  },
  {
   "cell_type": "markdown",
   "id": "cf66d178",
   "metadata": {},
   "source": [
    "### 1. Obtener y analizar datos"
   ]
  },
  {
   "cell_type": "code",
   "execution_count": null,
   "id": "c1dcca5b",
   "metadata": {},
   "outputs": [],
   "source": [
    "def leer_datos(ruta):\n",
    "    df = pd.read_csv(ruta,sep=',')   \n",
    "    return df"
   ]
  },
  {
   "cell_type": "code",
   "execution_count": null,
   "id": "5cd6fb71",
   "metadata": {},
   "outputs": [],
   "source": [
    "entrenamiento = leer_datos(\"data_Titanic.csv\")\n",
    "entrenamiento.info()"
   ]
  },
  {
   "cell_type": "code",
   "execution_count": null,
   "id": "0c59b6cd",
   "metadata": {},
   "outputs": [],
   "source": [
    "entrenamiento.head()"
   ]
  },
  {
   "cell_type": "code",
   "execution_count": null,
   "id": "0cc7db1c",
   "metadata": {},
   "outputs": [],
   "source": [
    "entrenamiento.isna().sum().sort_values()"
   ]
  },
  {
   "cell_type": "code",
   "execution_count": null,
   "id": "14d5fd6a",
   "metadata": {},
   "outputs": [],
   "source": [
    "sns.heatmap(entrenamiento.isna())"
   ]
  },
  {
   "cell_type": "code",
   "execution_count": null,
   "id": "c6b33c47",
   "metadata": {},
   "outputs": [],
   "source": [
    "sns.countplot(x='Survived', data=entrenamiento)"
   ]
  },
  {
   "cell_type": "code",
   "execution_count": null,
   "id": "24cd21e7",
   "metadata": {},
   "outputs": [],
   "source": [
    "sns.countplot(x='Survived', data=entrenamiento, hue=\"Sex\")"
   ]
  },
  {
   "cell_type": "code",
   "execution_count": null,
   "id": "f4bf6515",
   "metadata": {},
   "outputs": [],
   "source": [
    "#entrenamiento['Pclass'] = entrenamiento['Pclass'].astype('str')\n",
    "sns.countplot(x='Survived', data=entrenamiento, hue=\"Pclass\")"
   ]
  },
  {
   "cell_type": "code",
   "execution_count": null,
   "id": "6bdd8eb0",
   "metadata": {},
   "outputs": [],
   "source": [
    "sns.distplot(entrenamiento[\"Age\"].dropna(), kde=False)\n",
    "# sns.distplot(entrenamiento[\"Age\"].dropna(), kde=False, bins=30)"
   ]
  },
  {
   "cell_type": "code",
   "execution_count": null,
   "id": "ca147125",
   "metadata": {},
   "outputs": [],
   "source": [
    "entrenamiento['SibSp'].plot.hist(bins=20)"
   ]
  },
  {
   "cell_type": "markdown",
   "id": "026fb24a",
   "metadata": {},
   "source": [
    "### 2. Limpieza de datos"
   ]
  },
  {
   "cell_type": "code",
   "execution_count": null,
   "id": "10ae3648",
   "metadata": {},
   "outputs": [],
   "source": [
    "sns.heatmap(entrenamiento.isnull())"
   ]
  },
  {
   "cell_type": "code",
   "execution_count": null,
   "id": "a03849a6",
   "metadata": {},
   "outputs": [],
   "source": [
    "sns.boxplot(x=\"Pclass\", y=\"Age\", data=entrenamiento)"
   ]
  },
  {
   "cell_type": "code",
   "execution_count": null,
   "id": "108e3837",
   "metadata": {},
   "outputs": [],
   "source": [
    "def calcular_edad_media(columnas):\n",
    "    edad= columnas[0]\n",
    "    clase=columnas[1]\n",
    "    if pd.isnull(edad):\n",
    "        if clase == 1:\n",
    "            return 38\n",
    "        elif clase == 2:\n",
    "            return 30\n",
    "        else:\n",
    "            return 25\n",
    "    else:\n",
    "        return edad\n",
    "\n",
    "entrenamiento[\"Age\"] = entrenamiento[[\"Age\",\"Pclass\"]].apply(calcular_edad_media, axis=1)\n",
    "entrenamiento.head(3)"
   ]
  },
  {
   "cell_type": "code",
   "execution_count": null,
   "id": "071575f0",
   "metadata": {},
   "outputs": [],
   "source": [
    "entrenamiento.drop(\"Cabin\",axis=1,inplace=True)"
   ]
  },
  {
   "cell_type": "code",
   "execution_count": null,
   "id": "990f8b5e",
   "metadata": {},
   "outputs": [],
   "source": [
    "sns.heatmap(entrenamiento.isnull())"
   ]
  },
  {
   "cell_type": "code",
   "execution_count": null,
   "id": "7a50cec9",
   "metadata": {},
   "outputs": [],
   "source": [
    "entrenamiento.head(3)"
   ]
  },
  {
   "cell_type": "code",
   "execution_count": null,
   "id": "8fbabd38",
   "metadata": {},
   "outputs": [],
   "source": [
    "entrenamiento.drop([\"Name\",\"Ticket\",\"PassengerId\"],axis=1,inplace=True)\n",
    "entrenamiento.head(3)"
   ]
  },
  {
   "cell_type": "code",
   "execution_count": null,
   "id": "264f76a3",
   "metadata": {},
   "outputs": [],
   "source": []
  },
  {
   "cell_type": "code",
   "execution_count": null,
   "id": "c57523ae",
   "metadata": {},
   "outputs": [],
   "source": [
    "pd.get_dummies(entrenamiento[\"Sex\"])"
   ]
  },
  {
   "cell_type": "code",
   "execution_count": null,
   "id": "0f802b51",
   "metadata": {},
   "outputs": [],
   "source": [
    "sexo = pd.get_dummies(entrenamiento[\"Sex\"], drop_first=True)\n",
    "sexo.head(3)"
   ]
  },
  {
   "cell_type": "code",
   "execution_count": null,
   "id": "aa8862f6",
   "metadata": {},
   "outputs": [],
   "source": [
    "entrenamiento = pd.concat([entrenamiento,sexo],axis=1)\n",
    "entrenamiento.head(3)"
   ]
  },
  {
   "cell_type": "code",
   "execution_count": null,
   "id": "a5c50fa6",
   "metadata": {},
   "outputs": [],
   "source": [
    "entrenamiento.drop(\"Sex\",axis=1,inplace=True)\n",
    "entrenamiento.head(3)"
   ]
  },
  {
   "cell_type": "code",
   "execution_count": null,
   "id": "cece4152",
   "metadata": {},
   "outputs": [],
   "source": [
    "puerto= pd.get_dummies(entrenamiento[\"Embarked\"])\n",
    "puerto.head(3)"
   ]
  },
  {
   "cell_type": "code",
   "execution_count": null,
   "id": "8b41dfb2",
   "metadata": {},
   "outputs": [],
   "source": [
    "puerto= pd.get_dummies(entrenamiento[\"Embarked\"],drop_first=True)\n",
    "puerto.head(3)"
   ]
  },
  {
   "cell_type": "code",
   "execution_count": null,
   "id": "b32a9a37",
   "metadata": {},
   "outputs": [],
   "source": [
    "entrenamiento = pd.concat([entrenamiento,puerto],axis=1)\n",
    "entrenamiento.head(3)"
   ]
  },
  {
   "cell_type": "code",
   "execution_count": null,
   "id": "6a515908",
   "metadata": {},
   "outputs": [],
   "source": [
    "entrenamiento.drop(\"Embarked\",axis=1,inplace=True)\n",
    "entrenamiento.head(3)"
   ]
  },
  {
   "cell_type": "code",
   "execution_count": null,
   "id": "82ada6c9",
   "metadata": {},
   "outputs": [],
   "source": [
    "entrenamiento=entrenamiento.rename(columns={\"male\":\"Sex\"})\n",
    "entrenamiento.head(3)"
   ]
  },
  {
   "cell_type": "markdown",
   "id": "067a7a14",
   "metadata": {},
   "source": [
    "### 3. Divido los datos "
   ]
  },
  {
   "cell_type": "code",
   "execution_count": null,
   "id": "22fa0d9a",
   "metadata": {},
   "outputs": [],
   "source": [
    "x = entrenamiento.iloc[:, 1:] \n",
    "y = entrenamiento[\"Survived\"] "
   ]
  },
  {
   "cell_type": "code",
   "execution_count": null,
   "id": "1e575db1-1acc-4abc-80fd-5b66fda9db7a",
   "metadata": {},
   "outputs": [],
   "source": [
    "x_train, x_test, y_train, y_test = train_test_split(x,y, test_size=0.20, random_state=42)"
   ]
  },
  {
   "cell_type": "markdown",
   "id": "9c7235be",
   "metadata": {},
   "source": [
    "### 4. Crear el modelo"
   ]
  },
  {
   "cell_type": "code",
   "execution_count": null,
   "id": "47f2b626",
   "metadata": {},
   "outputs": [],
   "source": [
    "modelo = LogisticRegression()\n",
    "modelo.fit(x_train,y_train)"
   ]
  },
  {
   "cell_type": "code",
   "execution_count": null,
   "id": "e726e215-cf63-4299-81c2-d202ec16c5b5",
   "metadata": {},
   "outputs": [],
   "source": [
    "print(y_test)"
   ]
  },
  {
   "cell_type": "code",
   "execution_count": null,
   "id": "f00c4695",
   "metadata": {},
   "outputs": [],
   "source": [
    "y_pred = modelo.predict(x_test)\n",
    "y_pred = pd.DataFrame(y_pred)\n",
    "print(y_pred)"
   ]
  },
  {
   "cell_type": "markdown",
   "id": "cced334e",
   "metadata": {},
   "source": [
    "### 5. Pruebas"
   ]
  },
  {
   "cell_type": "code",
   "execution_count": null,
   "id": "2ac2ae91",
   "metadata": {},
   "outputs": [],
   "source": [
    "print(classification_report(y_test, y_pred))"
   ]
  },
  {
   "cell_type": "code",
   "execution_count": null,
   "id": "bc3e1c77",
   "metadata": {},
   "outputs": [],
   "source": [
    "confusion_matrix(y_test, y_pred)  "
   ]
  }
 ],
 "metadata": {
  "kernelspec": {
   "display_name": "Python 3 (ipykernel)",
   "language": "python",
   "name": "python3"
  },
  "language_info": {
   "codemirror_mode": {
    "name": "ipython",
    "version": 3
   },
   "file_extension": ".py",
   "mimetype": "text/x-python",
   "name": "python",
   "nbconvert_exporter": "python",
   "pygments_lexer": "ipython3",
   "version": "3.12.6"
  }
 },
 "nbformat": 4,
 "nbformat_minor": 5
}
